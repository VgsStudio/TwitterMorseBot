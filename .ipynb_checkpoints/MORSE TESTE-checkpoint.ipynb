{
 "cells": [
  {
   "cell_type": "code",
   "execution_count": 21,
   "id": "7f5571a3",
   "metadata": {},
   "outputs": [],
   "source": [
    "ACENTOS = { 'Á':'A','Ã':'A','À':'A','Â':'A', \n",
    "            'Ó':'O','Õ':'O','Ô':'O', 'Ò':'O',\n",
    "            'É':'E','Ê':'E','È':'E',\n",
    "            'Ú':'U','Ù':'U',\n",
    "            'Ç':'C',\n",
    "}"
   ]
  },
  {
   "cell_type": "code",
   "execution_count": 27,
   "id": "5b0faa95",
   "metadata": {},
   "outputs": [],
   "source": [
    "def tirar_acentos(message):\n",
    "    cipher = ''\n",
    "    for letter in message:\n",
    "        if letter in ACENTOS:\n",
    "            cipher += ACENTOS[letter]\n",
    "        else:\n",
    "            cipher += letter\n",
    "    return cipher"
   ]
  },
  {
   "cell_type": "code",
   "execution_count": 30,
   "id": "be241014",
   "metadata": {},
   "outputs": [
    {
     "data": {
      "text/plain": [
       "'BATETA'"
      ]
     },
     "execution_count": 30,
     "metadata": {},
     "output_type": "execute_result"
    }
   ],
   "source": [
    "tirar_acentos('BATÊTÁ')"
   ]
  },
  {
   "cell_type": "code",
   "execution_count": 37,
   "id": "335153ff",
   "metadata": {},
   "outputs": [],
   "source": [
    "MORSE_CODE_DICT = { 'A':'.-', 'B':'-...',\n",
    "                    'C':'-.-.', 'D':'-..', 'E':'.',\n",
    "                    'F':'..-.', 'G':'--.', 'H':'....',\n",
    "                    'I':'..', 'J':'.---', 'K':'-.-',\n",
    "                    'L':'.-..', 'M':'--', 'N':'-.',\n",
    "                    'O':'---', 'P':'.--.', 'Q':'--.-',\n",
    "                    'R':'.-.', 'S':'...', 'T':'-',\n",
    "                    'U':'..-', 'V':'...-', 'W':'.--',\n",
    "                    'X':'-..-', 'Y':'-.--', 'Z':'--..',\n",
    "                    '1':'.----', '2':'..---', '3':'...--',\n",
    "                    '4':'....-', '5':'.....', '6':'-....',\n",
    "                    '7':'--...', '8':'---..', '9':'----.',\n",
    "                    '0':'-----', ', ':'--..--', '.':'.-.-.-',\n",
    "                    '?':'..--..', '/':'-..-.', '-':'-....-',\n",
    "                    '(':'-.--.', ')':'-.--.-'}"
   ]
  },
  {
   "cell_type": "code",
   "execution_count": 38,
   "id": "a4f4085c",
   "metadata": {},
   "outputs": [],
   "source": [
    "def encrypt(message):\n",
    "    message = tirar_acentos(message)\n",
    "    cipher = ''\n",
    "    for letter in message:\n",
    "        if letter != ' ':\n",
    "            cipher += MORSE_CODE_DICT[letter] + ' '\n",
    "        else:\n",
    "            cipher += ' / '\n",
    "    return cipher\n"
   ]
  },
  {
   "cell_type": "code",
   "execution_count": 39,
   "id": "d8271417",
   "metadata": {},
   "outputs": [
    {
     "data": {
      "text/plain": [
       "'-... .- -.-. .- -. .- '"
      ]
     },
     "execution_count": 39,
     "metadata": {},
     "output_type": "execute_result"
    }
   ],
   "source": [
    "encrypt('BÁCANA')"
   ]
  },
  {
   "cell_type": "code",
   "execution_count": 40,
   "id": "97a67272",
   "metadata": {},
   "outputs": [
    {
     "data": {
      "text/plain": [
       "'-... .- -.-. .- -. .- '"
      ]
     },
     "execution_count": 40,
     "metadata": {},
     "output_type": "execute_result"
    }
   ],
   "source": [
    "encrypt('BACANA')"
   ]
  },
  {
   "cell_type": "code",
   "execution_count": 43,
   "id": "ed300991",
   "metadata": {},
   "outputs": [],
   "source": [
    "def decrypt(message):\n",
    "    decipher = ''\n",
    "    citext = ''\n",
    "    for letter in message:\n",
    "  \n",
    "        if (letter != [' ','/']):\n",
    "            i = 0\n",
    "\n",
    "            citext += letter\n",
    "  \n",
    "        # in case of space\n",
    "        else:\n",
    "            # if i = 1 that indicates a new character\n",
    "            i += 1\n",
    "  \n",
    "            # if i = 2 that indicates a new word\n",
    "            if i == 2 :\n",
    "  \n",
    "                 # adding space to separate words\n",
    "                decipher += ' '\n",
    "            else:\n",
    "  \n",
    "                # accessing the keys using their values (reverse of encryption)\n",
    "                decipher += list(MORSE_CODE_DICT.keys())[list(MORSE_CODE_DICT\n",
    "                .values()).index(citext)]\n",
    "                citext = ''\n",
    "  \n",
    "    return decipher"
   ]
  },
  {
   "cell_type": "code",
   "execution_count": 44,
   "id": "f342d326",
   "metadata": {},
   "outputs": [
    {
     "data": {
      "text/plain": [
       "'BACANA'"
      ]
     },
     "execution_count": 44,
     "metadata": {},
     "output_type": "execute_result"
    }
   ],
   "source": [
    "decrypt(encrypt('BACANA'))"
   ]
  },
  {
   "cell_type": "code",
   "execution_count": null,
   "id": "b99c8723",
   "metadata": {},
   "outputs": [],
   "source": []
  }
 ],
 "metadata": {
  "kernelspec": {
   "display_name": "Python 3",
   "language": "python",
   "name": "python3"
  },
  "language_info": {
   "codemirror_mode": {
    "name": "ipython",
    "version": 3
   },
   "file_extension": ".py",
   "mimetype": "text/x-python",
   "name": "python",
   "nbconvert_exporter": "python",
   "pygments_lexer": "ipython3",
   "version": "3.8.5"
  }
 },
 "nbformat": 4,
 "nbformat_minor": 5
}
