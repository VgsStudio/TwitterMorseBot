{
 "cells": [
  {
   "cell_type": "code",
   "execution_count": 1,
   "source": [
    "ACENTOS = { 'Á':'A','Ã':'A','À':'A','Â':'A', \r\n",
    "            'Ó':'O','Õ':'O','Ô':'O', 'Ò':'O',\r\n",
    "            'É':'E','Ê':'E','È':'E',\r\n",
    "            'Ú':'U','Ù':'U',\r\n",
    "            'Ç':'C',\r\n",
    "}"
   ],
   "outputs": [],
   "metadata": {}
  },
  {
   "cell_type": "code",
   "execution_count": 2,
   "source": [
    "def tirar_acentos(message):\r\n",
    "    cipher = ''\r\n",
    "    for letter in message:\r\n",
    "        if letter in ACENTOS:\r\n",
    "            cipher += ACENTOS[letter]\r\n",
    "        else:\r\n",
    "            cipher += letter\r\n",
    "    return cipher"
   ],
   "outputs": [],
   "metadata": {}
  },
  {
   "cell_type": "code",
   "execution_count": 3,
   "source": [
    "tirar_acentos('BATÊTÁ')"
   ],
   "outputs": [
    {
     "output_type": "execute_result",
     "data": {
      "text/plain": [
       "'BATETA'"
      ]
     },
     "metadata": {},
     "execution_count": 3
    }
   ],
   "metadata": {}
  },
  {
   "cell_type": "code",
   "execution_count": 5,
   "source": [
    "MORSE_CODE_DICT = { 'A':'.-', 'B':'-...',\r\n",
    "                    'C':'-.-.', 'D':'-..', 'E':'.',\r\n",
    "                    'F':'..-.', 'G':'--.', 'H':'....',\r\n",
    "                    'I':'..', 'J':'.---', 'K':'-.-',\r\n",
    "                    'L':'.-..', 'M':'--', 'N':'-.',\r\n",
    "                    'O':'---', 'P':'.--.', 'Q':'--.-',\r\n",
    "                    'R':'.-.', 'S':'...', 'T':'-',\r\n",
    "                    'U':'..-', 'V':'...-', 'W':'.--',\r\n",
    "                    'X':'-..-', 'Y':'-.--', 'Z':'--..',\r\n",
    "                    '1':'.----', '2':'..---', '3':'...--',\r\n",
    "                    '4':'....-', '5':'.....', '6':'-....',\r\n",
    "                    '7':'--...', '8':'---..', '9':'----.',\r\n",
    "                    '0':'-----', ', ':'--..--', '.':'.-.-.-',\r\n",
    "                    '?':'..--..', '/':'-..-.', '-':'-....-',\r\n",
    "                    '(':'-.--.', ')':'-.--.-', \"'\":'.----.'\r\n",
    "\r\n",
    "                    }"
   ],
   "outputs": [],
   "metadata": {}
  },
  {
   "cell_type": "code",
   "execution_count": 6,
   "source": [
    "def encrypt(message):\r\n",
    "    message = tirar_acentos(message)\r\n",
    "    cipher = ''\r\n",
    "    for letter in message:\r\n",
    "        if letter != ' ':\r\n",
    "            cipher += MORSE_CODE_DICT[letter] + ' '\r\n",
    "        else:\r\n",
    "            cipher += ' / '\r\n",
    "    return cipher\r\n"
   ],
   "outputs": [],
   "metadata": {}
  },
  {
   "cell_type": "code",
   "execution_count": 7,
   "source": [
    "encrypt('BÁCANA')"
   ],
   "outputs": [
    {
     "output_type": "execute_result",
     "data": {
      "text/plain": [
       "'-... .- -.-. .- -. .- '"
      ]
     },
     "metadata": {},
     "execution_count": 7
    }
   ],
   "metadata": {}
  },
  {
   "cell_type": "code",
   "execution_count": 8,
   "source": [
    "encrypt('BACANA')"
   ],
   "outputs": [
    {
     "output_type": "execute_result",
     "data": {
      "text/plain": [
       "'-... .- -.-. .- -. .- '"
      ]
     },
     "metadata": {},
     "execution_count": 8
    }
   ],
   "metadata": {}
  },
  {
   "cell_type": "code",
   "execution_count": 9,
   "source": [
    "def decrypt(message):\r\n",
    "    decipher = ''\r\n",
    "    citext = ''\r\n",
    "    for letter in message:\r\n",
    "  \r\n",
    "        if (letter != [' ','/']):\r\n",
    "            i = 0\r\n",
    "\r\n",
    "            citext += letter\r\n",
    "  \r\n",
    "        # in case of space\r\n",
    "        else:\r\n",
    "            # if i = 1 that indicates a new character\r\n",
    "            i += 1\r\n",
    "  \r\n",
    "            # if i = 2 that indicates a new word\r\n",
    "            if i == 2 :\r\n",
    "  \r\n",
    "                 # adding space to separate words\r\n",
    "                decipher += ' '\r\n",
    "            else:\r\n",
    "  \r\n",
    "                # accessing the keys using their values (reverse of encryption)\r\n",
    "                decipher += list(MORSE_CODE_DICT.keys())[list(MORSE_CODE_DICT\r\n",
    "                .values()).index(citext)]\r\n",
    "                citext = ''\r\n",
    "  \r\n",
    "    return decipher"
   ],
   "outputs": [],
   "metadata": {}
  },
  {
   "cell_type": "code",
   "execution_count": null,
   "source": [],
   "outputs": [],
   "metadata": {}
  }
 ],
 "metadata": {
  "kernelspec": {
   "name": "python3",
   "display_name": "Python 3.8.5 64-bit ('base': conda)"
  },
  "language_info": {
   "codemirror_mode": {
    "name": "ipython",
    "version": 3
   },
   "file_extension": ".py",
   "mimetype": "text/x-python",
   "name": "python",
   "nbconvert_exporter": "python",
   "pygments_lexer": "ipython3",
   "version": "3.8.5"
  },
  "interpreter": {
   "hash": "0860355dfad039b41061bbd9b8eb98b75089f3e30b6c492c98074334274c6e6b"
  }
 },
 "nbformat": 4,
 "nbformat_minor": 5
}